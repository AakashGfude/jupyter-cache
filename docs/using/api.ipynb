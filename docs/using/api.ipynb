{
 "nbformat": 4,
 "nbformat_minor": 2,
 "metadata": {
  "language_info": {
   "name": "python",
   "codemirror_mode": {
    "name": "ipython",
    "version": 3
   },
   "orig_nbformat": 2,
   "file_extension": ".py",
   "mimetype": "text/x-python",
   "npconvert_exporter": "python",
   "pygments_lexer": "ipython3",
   "version": "3.7.6-final"
  },
  "kernelspec": {
   "name": "python37664bitmistuneconda77ae93e05d9c4c1eab3d7fc3f8312065",
   "display_name": "Python 3.7.6 64-bit ('mistune': conda)"
  }
 },
 "cells": [
  {
   "cell_type": "markdown",
   "metadata": {},
   "source": [
    "(use/api)=\n",
    "\n",
    "# Python API"
   ]
  },
  {
   "cell_type": "markdown",
   "metadata": {},
   "source": [
    "This page outlines how to utilise the cache programatically.\n",
    "\n",
    "The full Jupyter notebook for this page can accessed here; {jupyter-download:notebook}`api`, for you to try yourself!"
   ]
  },
  {
   "cell_type": "markdown",
   "metadata": {},
   "source": [
    "## Initialisation"
   ]
  },
  {
   "cell_type": "code",
   "execution_count": 2,
   "metadata": {},
   "outputs": [],
   "source": [
    "from pathlib import Path\n",
    "import nbformat as nbf\n",
    "from jupyter_cache import get_cache\n",
    "from jupyter_cache.base import NbBundleIn\n",
    "from jupyter_cache.executors import load_executor, list_executors\n",
    "from jupyter_cache.utils import (\n",
    "    tabulate_cache_records, \n",
    "    tabulate_stage_records\n",
    ")"
   ]
  },
  {
   "cell_type": "markdown",
   "metadata": {},
   "source": [
    "First we setup a cache and ensure that it is cleared.\n",
    "\n",
    "```{important}\n",
    "Clearing a cache wipes its entire content, including any settings (such as cache limit).\n",
    "```"
   ]
  },
  {
   "cell_type": "code",
   "execution_count": 3,
   "metadata": {},
   "outputs": [
    {
     "data": {
      "text/plain": "JupyterCacheBase('/Users/cjs14/GitHub/jupyter-cache/docs/using/.jupyter_cache')"
     },
     "execution_count": 3,
     "metadata": {},
     "output_type": "execute_result"
    }
   ],
   "source": [
    "cache = get_cache(\".jupyter_cache\")\n",
    "cache.clear_cache()\n",
    "cache"
   ]
  },
  {
   "cell_type": "code",
   "execution_count": 3,
   "metadata": {},
   "outputs": [
    {
     "name": "stdout",
     "output_type": "stream",
     "text": "[]\n[]\n"
    }
   ],
   "source": [
    "print(cache.list_cache_records())\n",
    "print(cache.list_staged_records())"
   ]
  },
  {
   "cell_type": "markdown",
   "metadata": {},
   "source": [
    "## Cacheing Notebooks"
   ]
  },
  {
   "cell_type": "markdown",
   "metadata": {},
   "source": [
    "To directly cache a notebook:"
   ]
  },
  {
   "cell_type": "code",
   "execution_count": 4,
   "metadata": {},
   "outputs": [
    {
     "data": {
      "text/plain": "NbCacheRecord(pk=1)"
     },
     "execution_count": 4,
     "metadata": {},
     "output_type": "execute_result"
    }
   ],
   "source": [
    "record = cache.cache_notebook_file(\n",
    "    path=Path(\"example_nbs\", \"basic.ipynb\")\n",
    ")\n",
    "record"
   ]
  },
  {
   "cell_type": "markdown",
   "metadata": {},
   "source": [
    "This will add a physical copy of the notebook to tha cache (stripped of any text cells) and return the record that has been added to the cache database.\n",
    "\n",
    "```{important}\n",
    "The returned record is static, as in it will not update if the database is updated.\n",
    "```\n",
    "\n",
    "The record stores metadata for the notebook:"
   ]
  },
  {
   "cell_type": "code",
   "execution_count": 5,
   "metadata": {},
   "outputs": [
    {
     "data": {
      "text/plain": "{'hashkey': '818f3412b998fcf4fe9ca3cca11a3fc3',\n 'description': '',\n 'created': datetime.datetime(2020, 3, 13, 1, 6, 49, 157003),\n 'uri': 'example_nbs/basic.ipynb',\n 'pk': 1,\n 'data': {},\n 'accessed': datetime.datetime(2020, 3, 13, 1, 6, 49, 157017)}"
     },
     "execution_count": 5,
     "metadata": {},
     "output_type": "execute_result"
    }
   ],
   "source": [
    "record.to_dict()"
   ]
  },
  {
   "cell_type": "markdown",
   "metadata": {},
   "source": [
    "```{important}\n",
    "The URI that notebook is read from is stored, but does not have an impact on later comparison of notebooks. They are only compared by their internal content.\n",
    "```"
   ]
  },
  {
   "cell_type": "markdown",
   "metadata": {},
   "source": [
    "We can retrive cache records by their Primary Key (pk): "
   ]
  },
  {
   "cell_type": "code",
   "execution_count": 6,
   "metadata": {},
   "outputs": [
    {
     "data": {
      "text/plain": "[NbCacheRecord(pk=1)]"
     },
     "execution_count": 6,
     "metadata": {},
     "output_type": "execute_result"
    }
   ],
   "source": [
    "cache.list_cache_records()"
   ]
  },
  {
   "cell_type": "code",
   "execution_count": 7,
   "metadata": {},
   "outputs": [
    {
     "data": {
      "text/plain": "NbCacheRecord(pk=1)"
     },
     "execution_count": 7,
     "metadata": {},
     "output_type": "execute_result"
    }
   ],
   "source": [
    "cache.get_cache_record(1)"
   ]
  },
  {
   "cell_type": "markdown",
   "metadata": {},
   "source": [
    "To load the entire notebook that is related to a pk:"
   ]
  },
  {
   "cell_type": "code",
   "execution_count": 8,
   "metadata": {},
   "outputs": [
    {
     "data": {
      "text/plain": "NbBundleOut(nb=Notebook(cells=1), record=NbCacheRecord(pk=1), artifacts=NbArtifacts(paths=0))"
     },
     "execution_count": 8,
     "metadata": {},
     "output_type": "execute_result"
    }
   ],
   "source": [
    "nb_bundle = cache.get_cache_bundle(1)\n",
    "nb_bundle"
   ]
  },
  {
   "cell_type": "code",
   "execution_count": 9,
   "metadata": {},
   "outputs": [
    {
     "data": {
      "text/plain": "{'cells': [{'cell_type': 'code',\n   'execution_count': 1,\n   'metadata': {},\n   'outputs': [{'name': 'stdout', 'output_type': 'stream', 'text': '1\\n'}],\n   'source': 'a=1\\nprint(a)'}],\n 'metadata': {'kernelspec': {'display_name': 'Python 3',\n   'language': 'python',\n   'name': 'python3'},\n  'language_info': {'codemirror_mode': {'name': 'ipython', 'version': 3},\n   'file_extension': '.py',\n   'mimetype': 'text/x-python',\n   'name': 'python',\n   'nbconvert_exporter': 'python',\n   'pygments_lexer': 'ipython3',\n   'version': '3.6.1'},\n  'test_name': 'notebook1'},\n 'nbformat': 4,\n 'nbformat_minor': 2}"
     },
     "execution_count": 9,
     "metadata": {},
     "output_type": "execute_result"
    }
   ],
   "source": [
    "nb_bundle.nb"
   ]
  },
  {
   "cell_type": "markdown",
   "metadata": {},
   "source": [
    "Trying to add a notebook to the cache that matches an existing one will result in a error, since the cache ensures that all notebook hashes are unique:"
   ]
  },
  {
   "cell_type": "code",
   "execution_count": 10,
   "metadata": {},
   "outputs": [
    {
     "ename": "CachingError",
     "evalue": "Notebook already exists in cache and overwrite=False.",
     "output_type": "error",
     "traceback": [
      "\u001b[0;31m---------------------------------------------------------------------------\u001b[0m",
      "\u001b[0;31mCachingError\u001b[0m                              Traceback (most recent call last)",
      "\u001b[0;32m<ipython-input-10-5beccef01961>\u001b[0m in \u001b[0;36m<module>\u001b[0;34m\u001b[0m\n\u001b[1;32m      1\u001b[0m record = cache.cache_notebook_file(\n\u001b[0;32m----> 2\u001b[0;31m     \u001b[0mpath\u001b[0m\u001b[0;34m=\u001b[0m\u001b[0mPath\u001b[0m\u001b[0;34m(\u001b[0m\u001b[0;34m\"example_nbs\"\u001b[0m\u001b[0;34m,\u001b[0m \u001b[0;34m\"basic.ipynb\"\u001b[0m\u001b[0;34m)\u001b[0m\u001b[0;34m\u001b[0m\u001b[0;34m\u001b[0m\u001b[0m\n\u001b[0m\u001b[1;32m      3\u001b[0m )\n",
      "\u001b[0;32m~/GitHub/jupyter-cache/jupyter_cache/cache/main.py\u001b[0m in \u001b[0;36mcache_notebook_file\u001b[0;34m(self, path, uri, artifacts, data, check_validity, overwrite)\u001b[0m\n\u001b[1;32m    271\u001b[0m             ),\n\u001b[1;32m    272\u001b[0m             \u001b[0mcheck_validity\u001b[0m\u001b[0;34m=\u001b[0m\u001b[0mcheck_validity\u001b[0m\u001b[0;34m,\u001b[0m\u001b[0;34m\u001b[0m\u001b[0;34m\u001b[0m\u001b[0m\n\u001b[0;32m--> 273\u001b[0;31m             \u001b[0moverwrite\u001b[0m\u001b[0;34m=\u001b[0m\u001b[0moverwrite\u001b[0m\u001b[0;34m,\u001b[0m\u001b[0;34m\u001b[0m\u001b[0;34m\u001b[0m\u001b[0m\n\u001b[0m\u001b[1;32m    274\u001b[0m         )\n\u001b[1;32m    275\u001b[0m \u001b[0;34m\u001b[0m\u001b[0m\n",
      "\u001b[0;32m~/GitHub/jupyter-cache/jupyter_cache/cache/main.py\u001b[0m in \u001b[0;36mcache_notebook_bundle\u001b[0;34m(self, bundle, check_validity, overwrite, description)\u001b[0m\n\u001b[1;32m    208\u001b[0m             \u001b[0;32mif\u001b[0m \u001b[0;32mnot\u001b[0m \u001b[0moverwrite\u001b[0m\u001b[0;34m:\u001b[0m\u001b[0;34m\u001b[0m\u001b[0;34m\u001b[0m\u001b[0m\n\u001b[1;32m    209\u001b[0m                 raise CachingError(\n\u001b[0;32m--> 210\u001b[0;31m                     \u001b[0;34m\"Notebook already exists in cache and overwrite=False.\"\u001b[0m\u001b[0;34m\u001b[0m\u001b[0;34m\u001b[0m\u001b[0m\n\u001b[0m\u001b[1;32m    211\u001b[0m                 )\n\u001b[1;32m    212\u001b[0m             \u001b[0mshutil\u001b[0m\u001b[0;34m.\u001b[0m\u001b[0mrmtree\u001b[0m\u001b[0;34m(\u001b[0m\u001b[0mpath\u001b[0m\u001b[0;34m.\u001b[0m\u001b[0mparent\u001b[0m\u001b[0;34m)\u001b[0m\u001b[0;34m\u001b[0m\u001b[0;34m\u001b[0m\u001b[0m\n",
      "\u001b[0;31mCachingError\u001b[0m: Notebook already exists in cache and overwrite=False."
     ]
    }
   ],
   "source": [
    "record = cache.cache_notebook_file(\n",
    "    path=Path(\"example_nbs\", \"basic.ipynb\")\n",
    ")"
   ]
  },
  {
   "cell_type": "markdown",
   "metadata": {},
   "source": [
    "If we load a notebook external to the cache, then we can try to match it to one\n",
    "stored inside the cache:"
   ]
  },
  {
   "cell_type": "code",
   "execution_count": 11,
   "metadata": {},
   "outputs": [
    {
     "data": {
      "text/plain": "{'cells': [{'cell_type': 'markdown',\n   'metadata': {},\n   'source': '# a title\\n\\nsome text\\n'},\n  {'cell_type': 'code',\n   'execution_count': 1,\n   'metadata': {},\n   'source': 'a=1\\nprint(a)',\n   'outputs': [{'name': 'stdout', 'output_type': 'stream', 'text': '1\\n'}]}],\n 'metadata': {'test_name': 'notebook1',\n  'kernelspec': {'display_name': 'Python 3',\n   'language': 'python',\n   'name': 'python3'},\n  'language_info': {'codemirror_mode': {'name': 'ipython', 'version': 3},\n   'file_extension': '.py',\n   'mimetype': 'text/x-python',\n   'name': 'python',\n   'nbconvert_exporter': 'python',\n   'pygments_lexer': 'ipython3',\n   'version': '3.6.1'}},\n 'nbformat': 4,\n 'nbformat_minor': 2}"
     },
     "execution_count": 11,
     "metadata": {},
     "output_type": "execute_result"
    }
   ],
   "source": [
    "notebook = nbf.read(str(Path(\"example_nbs\", \"basic.ipynb\")), 4)\n",
    "notebook"
   ]
  },
  {
   "cell_type": "code",
   "execution_count": 12,
   "metadata": {},
   "outputs": [
    {
     "data": {
      "text/plain": "NbCacheRecord(pk=1)"
     },
     "execution_count": 12,
     "metadata": {},
     "output_type": "execute_result"
    }
   ],
   "source": [
    "cache.match_cache_notebook(notebook)"
   ]
  },
  {
   "cell_type": "markdown",
   "metadata": {},
   "source": [
    "Notebooks are matched by a hash based only on aspects of the notebook that will affect its execution (and hence outputs). So changing text cells will match the cached notebook:"
   ]
  },
  {
   "cell_type": "code",
   "execution_count": 13,
   "metadata": {},
   "outputs": [],
   "source": [
    "notebook.cells[0].source = \"change some text\""
   ]
  },
  {
   "cell_type": "code",
   "execution_count": 14,
   "metadata": {},
   "outputs": [
    {
     "data": {
      "text/plain": "NbCacheRecord(pk=1)"
     },
     "execution_count": 14,
     "metadata": {},
     "output_type": "execute_result"
    }
   ],
   "source": [
    "cache.match_cache_notebook(notebook)"
   ]
  },
  {
   "cell_type": "markdown",
   "metadata": {},
   "source": [
    "But changing code cells will result in a different hash, and so will not be matched:"
   ]
  },
  {
   "cell_type": "code",
   "execution_count": 15,
   "metadata": {},
   "outputs": [],
   "source": [
    "notebook.cells[1].source = \"change some source code\""
   ]
  },
  {
   "cell_type": "code",
   "execution_count": 16,
   "metadata": {},
   "outputs": [
    {
     "ename": "KeyError",
     "evalue": "'Cache record not found for NB with hashkey: 74933d8a93d1df9caad87b2e6efcdc69'",
     "output_type": "error",
     "traceback": [
      "\u001b[0;31m---------------------------------------------------------------------------\u001b[0m",
      "\u001b[0;31mKeyError\u001b[0m                                  Traceback (most recent call last)",
      "\u001b[0;32m<ipython-input-16-ece82e78c6b0>\u001b[0m in \u001b[0;36m<module>\u001b[0;34m\u001b[0m\n\u001b[0;32m----> 1\u001b[0;31m \u001b[0mcache\u001b[0m\u001b[0;34m.\u001b[0m\u001b[0mmatch_cache_notebook\u001b[0m\u001b[0;34m(\u001b[0m\u001b[0mnotebook\u001b[0m\u001b[0;34m)\u001b[0m\u001b[0;34m\u001b[0m\u001b[0;34m\u001b[0m\u001b[0m\n\u001b[0m",
      "\u001b[0;32m~/GitHub/jupyter-cache/jupyter_cache/cache/main.py\u001b[0m in \u001b[0;36mmatch_cache_notebook\u001b[0;34m(self, nb)\u001b[0m\n\u001b[1;32m    328\u001b[0m         \"\"\"\n\u001b[1;32m    329\u001b[0m         \u001b[0mhashkey\u001b[0m \u001b[0;34m=\u001b[0m \u001b[0mself\u001b[0m\u001b[0;34m.\u001b[0m\u001b[0m_hash_notebook\u001b[0m\u001b[0;34m(\u001b[0m\u001b[0mnb\u001b[0m\u001b[0;34m)\u001b[0m\u001b[0;34m\u001b[0m\u001b[0;34m\u001b[0m\u001b[0m\n\u001b[0;32m--> 330\u001b[0;31m         \u001b[0mcache_record\u001b[0m \u001b[0;34m=\u001b[0m \u001b[0mNbCacheRecord\u001b[0m\u001b[0;34m.\u001b[0m\u001b[0mrecord_from_hashkey\u001b[0m\u001b[0;34m(\u001b[0m\u001b[0mhashkey\u001b[0m\u001b[0;34m,\u001b[0m \u001b[0mself\u001b[0m\u001b[0;34m.\u001b[0m\u001b[0mdb\u001b[0m\u001b[0;34m)\u001b[0m\u001b[0;34m\u001b[0m\u001b[0;34m\u001b[0m\u001b[0m\n\u001b[0m\u001b[1;32m    331\u001b[0m         \u001b[0;32mreturn\u001b[0m \u001b[0mcache_record\u001b[0m\u001b[0;34m\u001b[0m\u001b[0;34m\u001b[0m\u001b[0m\n\u001b[1;32m    332\u001b[0m \u001b[0;34m\u001b[0m\u001b[0m\n",
      "\u001b[0;32m~/GitHub/jupyter-cache/jupyter_cache/cache/db.py\u001b[0m in \u001b[0;36mrecord_from_hashkey\u001b[0;34m(hashkey, db)\u001b[0m\n\u001b[1;32m    148\u001b[0m             \u001b[0;32mif\u001b[0m \u001b[0mresult\u001b[0m \u001b[0;32mis\u001b[0m \u001b[0;32mNone\u001b[0m\u001b[0;34m:\u001b[0m\u001b[0;34m\u001b[0m\u001b[0;34m\u001b[0m\u001b[0m\n\u001b[1;32m    149\u001b[0m                 raise KeyError(\n\u001b[0;32m--> 150\u001b[0;31m                     \u001b[0;34m\"Cache record not found for NB with hashkey: {}\"\u001b[0m\u001b[0;34m.\u001b[0m\u001b[0mformat\u001b[0m\u001b[0;34m(\u001b[0m\u001b[0mhashkey\u001b[0m\u001b[0;34m)\u001b[0m\u001b[0;34m\u001b[0m\u001b[0;34m\u001b[0m\u001b[0m\n\u001b[0m\u001b[1;32m    151\u001b[0m                 )\n\u001b[1;32m    152\u001b[0m             \u001b[0msession\u001b[0m\u001b[0;34m.\u001b[0m\u001b[0mexpunge\u001b[0m\u001b[0;34m(\u001b[0m\u001b[0mresult\u001b[0m\u001b[0;34m)\u001b[0m\u001b[0;34m\u001b[0m\u001b[0;34m\u001b[0m\u001b[0m\n",
      "\u001b[0;31mKeyError\u001b[0m: 'Cache record not found for NB with hashkey: 74933d8a93d1df9caad87b2e6efcdc69'"
     ]
    }
   ],
   "source": [
    "cache.match_cache_notebook(notebook)"
   ]
  },
  {
   "cell_type": "markdown",
   "metadata": {},
   "source": [
    "To understand the difference between an external notebook, and one stored in the cache, we can 'diff' them:"
   ]
  },
  {
   "cell_type": "code",
   "execution_count": 17,
   "metadata": {},
   "outputs": [
    {
     "name": "stdout",
     "output_type": "stream",
     "text": "nbdiff\n--- cached pk=1\n+++ other: \n\u001b[34m## inserted before nb/cells/0:\u001b[0m\n\u001b[32m+  code cell:\n\u001b[32m+    execution_count: 1\n\u001b[32m+    source:\n\u001b[32m+      change some source code\n\u001b[32m+    outputs:\n\u001b[32m+      output 0:\n\u001b[32m+        output_type: stream\n\u001b[32m+        name: stdout\n\u001b[32m+        text:\n\u001b[32m+          1\n\n\u001b[0m\u001b[34m## deleted nb/cells/0:\u001b[0m\n\u001b[31m-  code cell:\n\u001b[31m-    execution_count: 1\n\u001b[31m-    source:\n\u001b[31m-      a=1\n\u001b[31m-      print(a)\n\u001b[31m-    outputs:\n\u001b[31m-      output 0:\n\u001b[31m-        output_type: stream\n\u001b[31m-        name: stdout\n\u001b[31m-        text:\n\u001b[31m-          1\n\n\u001b[0m\n"
    }
   ],
   "source": [
    "print(cache.diff_nbnode_with_cache(1, notebook, as_str=True))"
   ]
  },
  {
   "cell_type": "markdown",
   "metadata": {},
   "source": [
    "If we cache this altered notebook, note that this will not remove the previously cached notebook:"
   ]
  },
  {
   "cell_type": "code",
   "execution_count": 18,
   "metadata": {},
   "outputs": [
    {
     "data": {
      "text/plain": "NbCacheRecord(pk=2)"
     },
     "execution_count": 18,
     "metadata": {},
     "output_type": "execute_result"
    }
   ],
   "source": [
    "nb_bundle = NbBundleIn(\n",
    "    nb=notebook,\n",
    "    uri=Path(\"example_nbs\", \"basic.ipynb\"),\n",
    "    data={\"tag\": \"mytag\"}\n",
    ")\n",
    "cache.cache_notebook_bundle(nb_bundle)"
   ]
  },
  {
   "cell_type": "code",
   "execution_count": 19,
   "metadata": {},
   "outputs": [
    {
     "name": "stdout",
     "output_type": "stream",
     "text": "ID  Origin URI    Created           Accessed          Hashkey                           Data\n----  ------------  ----------------  ----------------  --------------------------------  ----------------\n   2  basic.ipynb   2020-03-13 01:07  2020-03-13 01:07  74933d8a93d1df9caad87b2e6efcdc69  {'tag': 'mytag'}\n   1  basic.ipynb   2020-03-13 01:06  2020-03-13 01:06  818f3412b998fcf4fe9ca3cca11a3fc3\n"
    }
   ],
   "source": [
    "print(tabulate_cache_records(\n",
    "    cache.list_cache_records(), path_length=1, hashkeys=True\n",
    "))"
   ]
  },
  {
   "cell_type": "markdown",
   "metadata": {},
   "source": [
    "Notebooks are retained in the cache, until the cache limit is reached,\n",
    "at which point the oldest notebooks are removed."
   ]
  },
  {
   "cell_type": "code",
   "execution_count": 20,
   "metadata": {},
   "outputs": [
    {
     "data": {
      "text/plain": "1000"
     },
     "execution_count": 20,
     "metadata": {},
     "output_type": "execute_result"
    }
   ],
   "source": [
    "cache.get_cache_limit()"
   ]
  },
  {
   "cell_type": "code",
   "execution_count": 21,
   "metadata": {},
   "outputs": [],
   "source": [
    "cache.change_cache_limit(100)"
   ]
  },
  {
   "cell_type": "markdown",
   "metadata": {},
   "source": [
    "## Staging Notebooks for Execution"
   ]
  },
  {
   "cell_type": "markdown",
   "metadata": {},
   "source": [
    "Notebooks can be staged, by adding the path as a stage record.\n",
    "\n",
    "```{important}\n",
    "This does not physically add the notebook to the cache,\n",
    "merely store its URI, for later use.\n",
    "```"
   ]
  },
  {
   "cell_type": "code",
   "execution_count": 22,
   "metadata": {},
   "outputs": [
    {
     "data": {
      "text/plain": "NbStageRecord(pk=1)"
     },
     "execution_count": 22,
     "metadata": {},
     "output_type": "execute_result"
    }
   ],
   "source": [
    "record = cache.stage_notebook_file(Path(\"example_nbs\", \"basic.ipynb\"))\n",
    "record"
   ]
  },
  {
   "cell_type": "code",
   "execution_count": 23,
   "metadata": {},
   "outputs": [
    {
     "data": {
      "text/plain": "{'assets': [],\n 'traceback': '',\n 'pk': 1,\n 'uri': '/Users/cjs14/GitHub/jupyter-cache/docs/using/example_nbs/basic.ipynb',\n 'created': datetime.datetime(2020, 3, 13, 1, 7, 5, 767952)}"
     },
     "execution_count": 23,
     "metadata": {},
     "output_type": "execute_result"
    }
   ],
   "source": [
    "record.to_dict()"
   ]
  },
  {
   "cell_type": "markdown",
   "metadata": {},
   "source": [
    "If the staged notbook relates to one in the cache, we will be able to retrieve the cache record:"
   ]
  },
  {
   "cell_type": "code",
   "execution_count": 24,
   "metadata": {},
   "outputs": [
    {
     "data": {
      "text/plain": "NbCacheRecord(pk=1)"
     },
     "execution_count": 24,
     "metadata": {},
     "output_type": "execute_result"
    }
   ],
   "source": [
    "cache.get_cache_record_of_staged(1)"
   ]
  },
  {
   "cell_type": "code",
   "execution_count": 25,
   "metadata": {},
   "outputs": [
    {
     "name": "stdout",
     "output_type": "stream",
     "text": "ID  URI                      Created             Assets    Cache ID\n----  -----------------------  ----------------  --------  ----------\n   1  example_nbs/basic.ipynb  2020-03-13 01:07         0           1\n"
    }
   ],
   "source": [
    "print(tabulate_stage_records(\n",
    "    cache.list_staged_records(), path_length=2, cache=cache\n",
    "))"
   ]
  },
  {
   "cell_type": "markdown",
   "metadata": {},
   "source": [
    "If we add a notebook that cannot be found in the cache, it will be listed for execution:"
   ]
  },
  {
   "cell_type": "code",
   "execution_count": 26,
   "metadata": {},
   "outputs": [
    {
     "data": {
      "text/plain": "NbStageRecord(pk=2)"
     },
     "execution_count": 26,
     "metadata": {},
     "output_type": "execute_result"
    }
   ],
   "source": [
    "record = cache.stage_notebook_file(Path(\"example_nbs\", \"basic_failing.ipynb\"))\n",
    "record"
   ]
  },
  {
   "cell_type": "code",
   "execution_count": 27,
   "metadata": {},
   "outputs": [],
   "source": [
    "cache.get_cache_record_of_staged(2)  # returns None"
   ]
  },
  {
   "cell_type": "code",
   "execution_count": 28,
   "metadata": {},
   "outputs": [
    {
     "data": {
      "text/plain": "[NbStageRecord(pk=2)]"
     },
     "execution_count": 28,
     "metadata": {},
     "output_type": "execute_result"
    }
   ],
   "source": [
    "cache.list_staged_unexecuted()"
   ]
  },
  {
   "cell_type": "code",
   "execution_count": 29,
   "metadata": {},
   "outputs": [
    {
     "name": "stdout",
     "output_type": "stream",
     "text": "ID  URI                              Created             Assets    Cache ID\n----  -------------------------------  ----------------  --------  ----------\n   2  example_nbs/basic_failing.ipynb  2020-03-13 01:07         0\n   1  example_nbs/basic.ipynb          2020-03-13 01:07         0           1\n"
    }
   ],
   "source": [
    "print(tabulate_stage_records(\n",
    "    cache.list_staged_records(), path_length=2, cache=cache\n",
    "))"
   ]
  },
  {
   "cell_type": "markdown",
   "metadata": {},
   "source": [
    "To remove a notebook from the staging area:"
   ]
  },
  {
   "cell_type": "code",
   "execution_count": 30,
   "metadata": {},
   "outputs": [],
   "source": [
    "cache.discard_staged_notebook(1)"
   ]
  },
  {
   "cell_type": "code",
   "execution_count": 31,
   "metadata": {},
   "outputs": [
    {
     "name": "stdout",
     "output_type": "stream",
     "text": "ID  URI                              Created             Assets\n----  -------------------------------  ----------------  --------\n   2  example_nbs/basic_failing.ipynb  2020-03-13 01:07         0\n"
    }
   ],
   "source": [
    "print(tabulate_stage_records(\n",
    "    cache.list_staged_records(), path_length=2, cache=cache\n",
    "))"
   ]
  },
  {
   "cell_type": "markdown",
   "metadata": {},
   "source": [
    "## Execution"
   ]
  },
  {
   "cell_type": "markdown",
   "metadata": {},
   "source": [
    "If we have some staged notebooks:"
   ]
  },
  {
   "cell_type": "code",
   "execution_count": 4,
   "metadata": {},
   "outputs": [
    {
     "data": {
      "text/plain": "NbStageRecord(pk=2)"
     },
     "execution_count": 4,
     "metadata": {},
     "output_type": "execute_result"
    }
   ],
   "source": [
    "cache.clear_cache()\n",
    "cache.stage_notebook_file(Path(\"example_nbs\", \"basic.ipynb\"))\n",
    "cache.stage_notebook_file(Path(\"example_nbs\", \"basic_failing.ipynb\"))"
   ]
  },
  {
   "cell_type": "code",
   "execution_count": 5,
   "metadata": {},
   "outputs": [
    {
     "name": "stdout",
     "output_type": "stream",
     "text": "ID  URI                              Created             Assets\n----  -------------------------------  ----------------  --------\n   2  example_nbs/basic_failing.ipynb  2020-03-13 01:15         0\n   1  example_nbs/basic.ipynb          2020-03-13 01:15         0\n"
    }
   ],
   "source": [
    "print(tabulate_stage_records(\n",
    "    cache.list_staged_records(), path_length=2, cache=cache\n",
    "))"
   ]
  },
  {
   "cell_type": "markdown",
   "metadata": {},
   "source": [
    "Then we can select an executor (specified as entry points) to execute the notebook.\n",
    "\n",
    "```{note}\n",
    "To view the executors log, make sure logging is enabled.\n",
    "```"
   ]
  },
  {
   "cell_type": "code",
   "execution_count": 6,
   "metadata": {},
   "outputs": [
    {
     "data": {
      "text/plain": "[EntryPoint.parse('basic = jupyter_cache.executors.basic:JupyterExecutorBasic')]"
     },
     "execution_count": 6,
     "metadata": {},
     "output_type": "execute_result"
    }
   ],
   "source": [
    "list_executors()"
   ]
  },
  {
   "cell_type": "code",
   "execution_count": 7,
   "metadata": {},
   "outputs": [
    {
     "data": {
      "text/plain": "JupyterExecutorBasic(cache=JupyterCacheBase('/Users/cjs14/GitHub/jupyter-cache/docs/using/.jupyter_cache'))"
     },
     "execution_count": 7,
     "metadata": {},
     "output_type": "execute_result"
    }
   ],
   "source": [
    "from logging import basicConfig, INFO\n",
    "basicConfig(level=INFO)\n",
    "\n",
    "executor = load_executor(\"basic\", cache=cache)\n",
    "executor"
   ]
  },
  {
   "cell_type": "code",
   "execution_count": 8,
   "metadata": {},
   "outputs": [
    {
     "name": "stderr",
     "output_type": "stream",
     "text": "INFO:jupyter_cache.executors.base:Executing: /Users/cjs14/GitHub/jupyter-cache/docs/using/example_nbs/basic.ipynb\nINFO:jupyter_cache.executors.base:Execution Succeeded: /Users/cjs14/GitHub/jupyter-cache/docs/using/example_nbs/basic.ipynb\nINFO:jupyter_cache.executors.base:Executing: /Users/cjs14/GitHub/jupyter-cache/docs/using/example_nbs/basic_failing.ipynb\nERROR:jupyter_cache.executors.base:Execution Failed: /Users/cjs14/GitHub/jupyter-cache/docs/using/example_nbs/basic_failing.ipynb\n"
    },
    {
     "data": {
      "text/plain": "{'succeeded': ['/Users/cjs14/GitHub/jupyter-cache/docs/using/example_nbs/basic.ipynb'],\n 'excepted': ['/Users/cjs14/GitHub/jupyter-cache/docs/using/example_nbs/basic_failing.ipynb'],\n 'errored': []}"
     },
     "execution_count": 8,
     "metadata": {},
     "output_type": "execute_result"
    }
   ],
   "source": [
    "result = executor.run_and_cache()\n",
    "result"
   ]
  },
  {
   "cell_type": "markdown",
   "metadata": {},
   "source": [
    "Successfully executed notebooks will be added to the cache, and data about their execution (such as time taken) will be stored in the cache record:"
   ]
  },
  {
   "cell_type": "code",
   "execution_count": 9,
   "metadata": {},
   "outputs": [
    {
     "data": {
      "text/plain": "[NbCacheRecord(pk=1)]"
     },
     "execution_count": 9,
     "metadata": {},
     "output_type": "execute_result"
    }
   ],
   "source": [
    "cache.list_cache_records()"
   ]
  },
  {
   "cell_type": "code",
   "execution_count": 10,
   "metadata": {},
   "outputs": [
    {
     "data": {
      "text/plain": "{'hashkey': '818f3412b998fcf4fe9ca3cca11a3fc3',\n 'description': '',\n 'created': datetime.datetime(2020, 3, 13, 1, 15, 23, 896565),\n 'uri': '/Users/cjs14/GitHub/jupyter-cache/docs/using/example_nbs/basic.ipynb',\n 'pk': 1,\n 'data': {'execution_seconds': 1.4607883090000087},\n 'accessed': datetime.datetime(2020, 3, 13, 1, 15, 23, 896578)}"
     },
     "execution_count": 10,
     "metadata": {},
     "output_type": "execute_result"
    }
   ],
   "source": [
    "record = cache.get_cache_record(1)\n",
    "record.to_dict()"
   ]
  },
  {
   "cell_type": "markdown",
   "metadata": {},
   "source": [
    "Notebooks which failed to run will **not** be added to the cache,\n",
    "but details about their execution (including the exception traceback)\n",
    "will be added to the stage record:"
   ]
  },
  {
   "cell_type": "code",
   "execution_count": 11,
   "metadata": {},
   "outputs": [
    {
     "name": "stdout",
     "output_type": "stream",
     "text": "Traceback (most recent call last):\n  File \"/Users/cjs14/GitHub/jupyter-cache/jupyter_cache/executors/basic.py\", line 152, in execute\n    executenb(nb_bundle.nb, cwd=tmpdirname)\n  File \"/anaconda/envs/mistune/lib/python3.7/site-packages/nbconvert/preprocessors/execute.py\", line 737, in executenb\n    return ep.preprocess(nb, resources, km=km)[0]\n  File \"/anaconda/envs/mistune/lib/python3.7/site-packages/nbconvert/preprocessors/execute.py\", line 405, in preprocess\n    nb, resources = super(ExecutePreprocessor, self).preprocess(nb, resources)\n  File \"/anaconda/envs/mistune/lib/python3.7/site-packages/nbconvert/preprocessors/base.py\", line 69, in preprocess\n    nb.cells[index], resources = self.preprocess_cell(cell, resources, index)\n  File \"/anaconda/envs/mistune/lib/python3.7/site-packages/nbconvert/preprocessors/execute.py\", line 448, in preprocess_cell\n    raise CellExecutionError.from_cell_and_msg(cell, out)\nnbconvert.preprocessors.execute.CellExecutionError: An error occurred while executing the following cell:\n------------------\nraise Exception('oopsie!')\n------------------\n\n\u001b[0;31m---------------------------------------------------------------------------\u001b[0m\n\u001b[0;31mException\u001b[0m                                 Traceback (most recent call last)\n\u001b[0;32m<ipython-input-1-714b2b556897>\u001b[0m in \u001b[0;36m<module>\u001b[0;34m\u001b[0m\n\u001b[0;32m----> 1\u001b[0;31m \u001b[0;32mraise\u001b[0m \u001b[0mException\u001b[0m\u001b[0;34m(\u001b[0m\u001b[0;34m'oopsie!'\u001b[0m\u001b[0;34m)\u001b[0m\u001b[0;34m\u001b[0m\u001b[0;34m\u001b[0m\u001b[0m\n\u001b[0m\n\u001b[0;31mException\u001b[0m: oopsie!\nException: oopsie!\n\n\n"
    }
   ],
   "source": [
    "record = cache.get_staged_record(2)\n",
    "print(record.traceback)"
   ]
  },
  {
   "cell_type": "markdown",
   "metadata": {},
   "source": [
    "We now have two staged records, and one cache record:"
   ]
  },
  {
   "cell_type": "code",
   "execution_count": 12,
   "metadata": {},
   "outputs": [
    {
     "name": "stdout",
     "output_type": "stream",
     "text": "ID  URI                              Created             Assets    Cache ID\n----  -------------------------------  ----------------  --------  ----------\n   2  example_nbs/basic_failing.ipynb  2020-03-13 01:15         0\n   1  example_nbs/basic.ipynb          2020-03-13 01:15         0           1\n"
    }
   ],
   "source": [
    "print(tabulate_stage_records(\n",
    "    cache.list_staged_records(), path_length=2, cache=cache\n",
    "))"
   ]
  },
  {
   "cell_type": "code",
   "execution_count": 14,
   "metadata": {},
   "outputs": [
    {
     "name": "stdout",
     "output_type": "stream",
     "text": "ID  Origin URI    Created           Accessed          Hashkey\n----  ------------  ----------------  ----------------  --------------------------------\n   1  basic.ipynb   2020-03-13 01:15  2020-03-13 01:15  818f3412b998fcf4fe9ca3cca11a3fc3\n"
    }
   ],
   "source": [
    "print(tabulate_cache_records(\n",
    "    cache.list_cache_records(), path_length=1, hashkeys=True\n",
    "))"
   ]
  }
 ]
}
