{
 "nbformat": 4,
 "nbformat_minor": 2,
 "metadata": {
  "language_info": {
   "name": "python",
   "codemirror_mode": {
    "name": "ipython",
    "version": 3
   },
   "orig_nbformat": 2,
   "file_extension": ".py",
   "mimetype": "text/x-python",
   "npconvert_exporter": "python",
   "pygments_lexer": "ipython3",
   "version": "3.7.6-final"
  },
  "kernelspec": {
   "name": "python37664bitmistuneconda77ae93e05d9c4c1eab3d7fc3f8312065",
   "display_name": "Python 3.7.6 64-bit ('mistune': conda)"
  }
 },
 "cells": [
  {
   "cell_type": "markdown",
   "metadata": {},
   "source": [
    "(use/api)=\n",
    "\n",
    "# Python API"
   ]
  },
  {
   "cell_type": "markdown",
   "metadata": {},
   "source": [
    "## Initialisation"
   ]
  },
  {
   "cell_type": "code",
   "execution_count": 1,
   "metadata": {},
   "outputs": [],
   "source": [
    "from pathlib import Path\n",
    "import nbformat as nbf\n",
    "from jupyter_cache import get_cache\n",
    "from jupyter_cache.base import NbBundleIn\n",
    "from jupyter_cache.executors import load_executor\n",
    "from jupyter_cache.utils import (\n",
    "    tabulate_cache_records, \n",
    "    tabulate_stage_records\n",
    ")"
   ]
  },
  {
   "cell_type": "code",
   "execution_count": 2,
   "metadata": {},
   "outputs": [
    {
     "data": {
      "text/plain": "JupyterCacheBase('/Users/cjs14/GitHub/jupyter-cache/docs/using/.jupyter_cache')"
     },
     "execution_count": 2,
     "metadata": {},
     "output_type": "execute_result"
    }
   ],
   "source": [
    "cache = get_cache(\".jupyter_cache\")\n",
    "cache.clear_cache()\n",
    "cache"
   ]
  },
  {
   "cell_type": "code",
   "execution_count": 3,
   "metadata": {},
   "outputs": [
    {
     "name": "stdout",
     "output_type": "stream",
     "text": "[]\n[]\n"
    }
   ],
   "source": [
    "print(cache.list_cache_records())\n",
    "print(cache.list_staged_records())"
   ]
  },
  {
   "cell_type": "markdown",
   "metadata": {},
   "source": [
    "## Cacheing Notebooks"
   ]
  },
  {
   "cell_type": "code",
   "execution_count": 4,
   "metadata": {},
   "outputs": [
    {
     "data": {
      "text/plain": "NbCacheRecord(pk=1)"
     },
     "execution_count": 4,
     "metadata": {},
     "output_type": "execute_result"
    }
   ],
   "source": [
    "record = cache.cache_notebook_file(\n",
    "    path=Path(\"example_nbs\", \"basic.ipynb\")\n",
    ")\n",
    "record"
   ]
  },
  {
   "cell_type": "code",
   "execution_count": 5,
   "metadata": {},
   "outputs": [
    {
     "data": {
      "text/plain": "{'hashkey': '818f3412b998fcf4fe9ca3cca11a3fc3',\n 'description': '',\n 'created': datetime.datetime(2020, 3, 12, 23, 57, 4, 973366),\n 'data': {},\n 'pk': 1,\n 'uri': 'example_nbs/basic.ipynb',\n 'accessed': datetime.datetime(2020, 3, 12, 23, 57, 4, 973385)}"
     },
     "execution_count": 5,
     "metadata": {},
     "output_type": "execute_result"
    }
   ],
   "source": [
    "record.to_dict()"
   ]
  },
  {
   "cell_type": "code",
   "execution_count": 6,
   "metadata": {},
   "outputs": [
    {
     "data": {
      "text/plain": "[NbCacheRecord(pk=1)]"
     },
     "execution_count": 6,
     "metadata": {},
     "output_type": "execute_result"
    }
   ],
   "source": [
    "cache.list_cache_records()"
   ]
  },
  {
   "cell_type": "code",
   "execution_count": 7,
   "metadata": {},
   "outputs": [
    {
     "data": {
      "text/plain": "NbCacheRecord(pk=1)"
     },
     "execution_count": 7,
     "metadata": {},
     "output_type": "execute_result"
    }
   ],
   "source": [
    "cache.get_cache_record(1)"
   ]
  },
  {
   "cell_type": "code",
   "execution_count": 8,
   "metadata": {},
   "outputs": [
    {
     "data": {
      "text/plain": "NbBundleOut(nb=Notebook(cells=1), record=NbCacheRecord(pk=1), artifacts=NbArtifacts(paths=0))"
     },
     "execution_count": 8,
     "metadata": {},
     "output_type": "execute_result"
    }
   ],
   "source": [
    "nb_bundle = cache.get_cache_bundle(1)\n",
    "nb_bundle"
   ]
  },
  {
   "cell_type": "code",
   "execution_count": 9,
   "metadata": {},
   "outputs": [
    {
     "data": {
      "text/plain": "{'cells': [{'cell_type': 'code',\n   'execution_count': 1,\n   'metadata': {},\n   'outputs': [{'name': 'stdout', 'output_type': 'stream', 'text': '1\\n'}],\n   'source': 'a=1\\nprint(a)'}],\n 'metadata': {'kernelspec': {'display_name': 'Python 3',\n   'language': 'python',\n   'name': 'python3'},\n  'language_info': {'codemirror_mode': {'name': 'ipython', 'version': 3},\n   'file_extension': '.py',\n   'mimetype': 'text/x-python',\n   'name': 'python',\n   'nbconvert_exporter': 'python',\n   'pygments_lexer': 'ipython3',\n   'version': '3.6.1'},\n  'test_name': 'notebook1'},\n 'nbformat': 4,\n 'nbformat_minor': 2}"
     },
     "execution_count": 9,
     "metadata": {},
     "output_type": "execute_result"
    }
   ],
   "source": [
    "nb_bundle.nb"
   ]
  },
  {
   "cell_type": "code",
   "execution_count": 10,
   "metadata": {},
   "outputs": [
    {
     "ename": "CachingError",
     "evalue": "Notebook already exists in cache and overwrite=False.",
     "output_type": "error",
     "traceback": [
      "\u001b[0;31m---------------------------------------------------------------------------\u001b[0m",
      "\u001b[0;31mCachingError\u001b[0m                              Traceback (most recent call last)",
      "\u001b[0;32m<ipython-input-10-5beccef01961>\u001b[0m in \u001b[0;36m<module>\u001b[0;34m\u001b[0m\n\u001b[1;32m      1\u001b[0m record = cache.cache_notebook_file(\n\u001b[0;32m----> 2\u001b[0;31m     \u001b[0mpath\u001b[0m\u001b[0;34m=\u001b[0m\u001b[0mPath\u001b[0m\u001b[0;34m(\u001b[0m\u001b[0;34m\"example_nbs\"\u001b[0m\u001b[0;34m,\u001b[0m \u001b[0;34m\"basic.ipynb\"\u001b[0m\u001b[0;34m)\u001b[0m\u001b[0;34m\u001b[0m\u001b[0;34m\u001b[0m\u001b[0m\n\u001b[0m\u001b[1;32m      3\u001b[0m )\n",
      "\u001b[0;32m~/GitHub/jupyter-cache/jupyter_cache/cache/main.py\u001b[0m in \u001b[0;36mcache_notebook_file\u001b[0;34m(self, path, uri, artifacts, data, check_validity, overwrite)\u001b[0m\n\u001b[1;32m    268\u001b[0m             ),\n\u001b[1;32m    269\u001b[0m             \u001b[0mcheck_validity\u001b[0m\u001b[0;34m=\u001b[0m\u001b[0mcheck_validity\u001b[0m\u001b[0;34m,\u001b[0m\u001b[0;34m\u001b[0m\u001b[0;34m\u001b[0m\u001b[0m\n\u001b[0;32m--> 270\u001b[0;31m             \u001b[0moverwrite\u001b[0m\u001b[0;34m=\u001b[0m\u001b[0moverwrite\u001b[0m\u001b[0;34m,\u001b[0m\u001b[0;34m\u001b[0m\u001b[0;34m\u001b[0m\u001b[0m\n\u001b[0m\u001b[1;32m    271\u001b[0m         )\n\u001b[1;32m    272\u001b[0m \u001b[0;34m\u001b[0m\u001b[0m\n",
      "\u001b[0;32m~/GitHub/jupyter-cache/jupyter_cache/cache/main.py\u001b[0m in \u001b[0;36mcache_notebook_bundle\u001b[0;34m(self, bundle, check_validity, overwrite, description)\u001b[0m\n\u001b[1;32m    205\u001b[0m             \u001b[0;32mif\u001b[0m \u001b[0;32mnot\u001b[0m \u001b[0moverwrite\u001b[0m\u001b[0;34m:\u001b[0m\u001b[0;34m\u001b[0m\u001b[0;34m\u001b[0m\u001b[0m\n\u001b[1;32m    206\u001b[0m                 raise CachingError(\n\u001b[0;32m--> 207\u001b[0;31m                     \u001b[0;34m\"Notebook already exists in cache and overwrite=False.\"\u001b[0m\u001b[0;34m\u001b[0m\u001b[0;34m\u001b[0m\u001b[0m\n\u001b[0m\u001b[1;32m    208\u001b[0m                 )\n\u001b[1;32m    209\u001b[0m             \u001b[0mshutil\u001b[0m\u001b[0;34m.\u001b[0m\u001b[0mrmtree\u001b[0m\u001b[0;34m(\u001b[0m\u001b[0mpath\u001b[0m\u001b[0;34m.\u001b[0m\u001b[0mparent\u001b[0m\u001b[0;34m)\u001b[0m\u001b[0;34m\u001b[0m\u001b[0;34m\u001b[0m\u001b[0m\n",
      "\u001b[0;31mCachingError\u001b[0m: Notebook already exists in cache and overwrite=False."
     ]
    }
   ],
   "source": [
    "record = cache.cache_notebook_file(\n",
    "    path=Path(\"example_nbs\", \"basic.ipynb\")\n",
    ")"
   ]
  },
  {
   "cell_type": "code",
   "execution_count": null,
   "metadata": {},
   "outputs": [],
   "source": [
    "notebook = nbf.read(str(Path(\"example_nbs\", \"basic.ipynb\")), 4)\n",
    "notebook"
   ]
  },
  {
   "cell_type": "code",
   "execution_count": null,
   "metadata": {},
   "outputs": [],
   "source": [
    "cache.match_cache_notebook(notebook)"
   ]
  },
  {
   "cell_type": "code",
   "execution_count": null,
   "metadata": {},
   "outputs": [],
   "source": [
    "notebook.cells[0].source = \"change some text\""
   ]
  },
  {
   "cell_type": "code",
   "execution_count": 14,
   "metadata": {},
   "outputs": [
    {
     "data": {
      "text/plain": "NbCacheRecord(pk=1)"
     },
     "execution_count": 14,
     "metadata": {},
     "output_type": "execute_result"
    }
   ],
   "source": [
    "cache.match_cache_notebook(notebook)"
   ]
  },
  {
   "cell_type": "code",
   "execution_count": 15,
   "metadata": {},
   "outputs": [],
   "source": [
    "notebook.cells[1].source = \"change some source code\""
   ]
  },
  {
   "cell_type": "code",
   "execution_count": 16,
   "metadata": {},
   "outputs": [
    {
     "ename": "KeyError",
     "evalue": "'Cache record not found for NB with hashkey: 74933d8a93d1df9caad87b2e6efcdc69'",
     "output_type": "error",
     "traceback": [
      "\u001b[0;31m---------------------------------------------------------------------------\u001b[0m",
      "\u001b[0;31mKeyError\u001b[0m                                  Traceback (most recent call last)",
      "\u001b[0;32m<ipython-input-16-ece82e78c6b0>\u001b[0m in \u001b[0;36m<module>\u001b[0;34m\u001b[0m\n\u001b[0;32m----> 1\u001b[0;31m \u001b[0mcache\u001b[0m\u001b[0;34m.\u001b[0m\u001b[0mmatch_cache_notebook\u001b[0m\u001b[0;34m(\u001b[0m\u001b[0mnotebook\u001b[0m\u001b[0;34m)\u001b[0m\u001b[0;34m\u001b[0m\u001b[0;34m\u001b[0m\u001b[0m\n\u001b[0m",
      "\u001b[0;32m~/GitHub/jupyter-cache/jupyter_cache/cache/main.py\u001b[0m in \u001b[0;36mmatch_cache_notebook\u001b[0;34m(self, nb)\u001b[0m\n\u001b[1;32m    325\u001b[0m         \"\"\"\n\u001b[1;32m    326\u001b[0m         \u001b[0mhashkey\u001b[0m \u001b[0;34m=\u001b[0m \u001b[0mself\u001b[0m\u001b[0;34m.\u001b[0m\u001b[0m_hash_notebook\u001b[0m\u001b[0;34m(\u001b[0m\u001b[0mnb\u001b[0m\u001b[0;34m)\u001b[0m\u001b[0;34m\u001b[0m\u001b[0;34m\u001b[0m\u001b[0m\n\u001b[0;32m--> 327\u001b[0;31m         \u001b[0mcache_record\u001b[0m \u001b[0;34m=\u001b[0m \u001b[0mNbCacheRecord\u001b[0m\u001b[0;34m.\u001b[0m\u001b[0mrecord_from_hashkey\u001b[0m\u001b[0;34m(\u001b[0m\u001b[0mhashkey\u001b[0m\u001b[0;34m,\u001b[0m \u001b[0mself\u001b[0m\u001b[0;34m.\u001b[0m\u001b[0mdb\u001b[0m\u001b[0;34m)\u001b[0m\u001b[0;34m\u001b[0m\u001b[0;34m\u001b[0m\u001b[0m\n\u001b[0m\u001b[1;32m    328\u001b[0m         \u001b[0;32mreturn\u001b[0m \u001b[0mcache_record\u001b[0m\u001b[0;34m\u001b[0m\u001b[0;34m\u001b[0m\u001b[0m\n\u001b[1;32m    329\u001b[0m \u001b[0;34m\u001b[0m\u001b[0m\n",
      "\u001b[0;32m~/GitHub/jupyter-cache/jupyter_cache/cache/db.py\u001b[0m in \u001b[0;36mrecord_from_hashkey\u001b[0;34m(hashkey, db)\u001b[0m\n\u001b[1;32m    148\u001b[0m             \u001b[0;32mif\u001b[0m \u001b[0mresult\u001b[0m \u001b[0;32mis\u001b[0m \u001b[0;32mNone\u001b[0m\u001b[0;34m:\u001b[0m\u001b[0;34m\u001b[0m\u001b[0;34m\u001b[0m\u001b[0m\n\u001b[1;32m    149\u001b[0m                 raise KeyError(\n\u001b[0;32m--> 150\u001b[0;31m                     \u001b[0;34m\"Cache record not found for NB with hashkey: {}\"\u001b[0m\u001b[0;34m.\u001b[0m\u001b[0mformat\u001b[0m\u001b[0;34m(\u001b[0m\u001b[0mhashkey\u001b[0m\u001b[0;34m)\u001b[0m\u001b[0;34m\u001b[0m\u001b[0;34m\u001b[0m\u001b[0m\n\u001b[0m\u001b[1;32m    151\u001b[0m                 )\n\u001b[1;32m    152\u001b[0m             \u001b[0msession\u001b[0m\u001b[0;34m.\u001b[0m\u001b[0mexpunge\u001b[0m\u001b[0;34m(\u001b[0m\u001b[0mresult\u001b[0m\u001b[0;34m)\u001b[0m\u001b[0;34m\u001b[0m\u001b[0;34m\u001b[0m\u001b[0m\n",
      "\u001b[0;31mKeyError\u001b[0m: 'Cache record not found for NB with hashkey: 74933d8a93d1df9caad87b2e6efcdc69'"
     ]
    }
   ],
   "source": [
    "cache.match_cache_notebook(notebook)"
   ]
  },
  {
   "cell_type": "code",
   "execution_count": null,
   "metadata": {},
   "outputs": [],
   "source": [
    "print(cache.diff_nbnode_with_cache(1, notebook, as_str=True))"
   ]
  },
  {
   "cell_type": "code",
   "execution_count": null,
   "metadata": {},
   "outputs": [],
   "source": [
    "nb_bundle = NbBundleIn(\n",
    "    nb=notebook,\n",
    "    uri=Path(\"example_nbs\", \"basic.ipynb\"),\n",
    "    data={\"tag\": \"mytag\"}\n",
    ")\n",
    "cache.cache_notebook_bundle(nb_bundle)"
   ]
  },
  {
   "cell_type": "code",
   "execution_count": null,
   "metadata": {},
   "outputs": [],
   "source": [
    "print(tabulate_cache_records(\n",
    "    cache.list_cache_records(), path_length=1, hashkeys=True\n",
    "))"
   ]
  },
  {
   "cell_type": "markdown",
   "metadata": {},
   "source": [
    "## Staging Notebooks for Execution"
   ]
  },
  {
   "cell_type": "code",
   "execution_count": 20,
   "metadata": {},
   "outputs": [
    {
     "data": {
      "text/plain": "NbStageRecord(pk=1)"
     },
     "execution_count": 20,
     "metadata": {},
     "output_type": "execute_result"
    }
   ],
   "source": [
    "record = cache.stage_notebook_file(Path(\"example_nbs\", \"basic.ipynb\"))\n",
    "record"
   ]
  },
  {
   "cell_type": "code",
   "execution_count": 21,
   "metadata": {},
   "outputs": [
    {
     "data": {
      "text/plain": "{'assets': [],\n 'traceback': '',\n 'pk': 1,\n 'uri': '/Users/cjs14/GitHub/jupyter-cache/docs/using/example_nbs/basic.ipynb',\n 'created': datetime.datetime(2020, 3, 12, 23, 57, 12, 376058)}"
     },
     "execution_count": 21,
     "metadata": {},
     "output_type": "execute_result"
    }
   ],
   "source": [
    "record.to_dict()"
   ]
  },
  {
   "cell_type": "code",
   "execution_count": 22,
   "metadata": {},
   "outputs": [
    {
     "name": "stdout",
     "output_type": "stream",
     "text": "ID  URI                      Created             Assets    Cache ID\n----  -----------------------  ----------------  --------  ----------\n   1  example_nbs/basic.ipynb  2020-03-12 23:57         0           1\n"
    }
   ],
   "source": [
    "print(tabulate_stage_records(\n",
    "    cache.list_staged_records(), path_length=2, cache=cache\n",
    "))"
   ]
  },
  {
   "cell_type": "code",
   "execution_count": 23,
   "metadata": {},
   "outputs": [
    {
     "data": {
      "text/plain": "NbCacheRecord(pk=1)"
     },
     "execution_count": 23,
     "metadata": {},
     "output_type": "execute_result"
    }
   ],
   "source": [
    "cache.get_cache_record_of_staged(1)"
   ]
  },
  {
   "cell_type": "code",
   "execution_count": 24,
   "metadata": {},
   "outputs": [],
   "source": [
    "record = cache.stage_notebook_file(Path(\"example_nbs\", \"basic_failing.ipynb\"))"
   ]
  },
  {
   "cell_type": "code",
   "execution_count": 25,
   "metadata": {},
   "outputs": [
    {
     "data": {
      "text/plain": "[NbStageRecord(pk=2)]"
     },
     "execution_count": 25,
     "metadata": {},
     "output_type": "execute_result"
    }
   ],
   "source": [
    "cache.list_staged_unexecuted()"
   ]
  },
  {
   "cell_type": "code",
   "execution_count": 26,
   "metadata": {},
   "outputs": [],
   "source": [
    "cache.discard_staged_notebook(1)"
   ]
  },
  {
   "cell_type": "code",
   "execution_count": 27,
   "metadata": {},
   "outputs": [
    {
     "name": "stdout",
     "output_type": "stream",
     "text": "ID  URI                              Created             Assets\n----  -------------------------------  ----------------  --------\n   2  example_nbs/basic_failing.ipynb  2020-03-12 23:57         0\n"
    }
   ],
   "source": [
    "print(tabulate_stage_records(\n",
    "    cache.list_staged_records(), path_length=2, cache=cache\n",
    "))"
   ]
  },
  {
   "cell_type": "markdown",
   "metadata": {},
   "source": [
    "## Execution"
   ]
  },
  {
   "cell_type": "code",
   "execution_count": 36,
   "metadata": {},
   "outputs": [
    {
     "data": {
      "text/plain": "NbStageRecord(pk=2)"
     },
     "execution_count": 36,
     "metadata": {},
     "output_type": "execute_result"
    }
   ],
   "source": [
    "cache.clear_cache()\n",
    "cache.stage_notebook_file(Path(\"example_nbs\", \"basic.ipynb\"))\n",
    "cache.stage_notebook_file(Path(\"example_nbs\", \"basic_failing.ipynb\"))"
   ]
  },
  {
   "cell_type": "code",
   "execution_count": 37,
   "metadata": {},
   "outputs": [
    {
     "data": {
      "text/plain": "JupyterExecutorBasic(cache=JupyterCacheBase('/Users/cjs14/GitHub/jupyter-cache/docs/using/.jupyter_cache'))"
     },
     "execution_count": 37,
     "metadata": {},
     "output_type": "execute_result"
    }
   ],
   "source": [
    "from logging import basicConfig, INFO\n",
    "basicConfig(level=INFO)\n",
    "\n",
    "executor = load_executor(\"basic\", cache=cache)\n",
    "executor"
   ]
  },
  {
   "cell_type": "code",
   "execution_count": 38,
   "metadata": {},
   "outputs": [
    {
     "name": "stderr",
     "output_type": "stream",
     "text": "INFO:jupyter_cache.executors.base:Executing: /Users/cjs14/GitHub/jupyter-cache/docs/using/example_nbs/basic.ipynb\nINFO:jupyter_cache.executors.base:Execution Succeeded: /Users/cjs14/GitHub/jupyter-cache/docs/using/example_nbs/basic.ipynb\nINFO:jupyter_cache.executors.base:Executing: /Users/cjs14/GitHub/jupyter-cache/docs/using/example_nbs/basic_failing.ipynb\nERROR:jupyter_cache.executors.base:Execution Failed: /Users/cjs14/GitHub/jupyter-cache/docs/using/example_nbs/basic_failing.ipynb\n"
    },
    {
     "data": {
      "text/plain": "{'succeeded': ['/Users/cjs14/GitHub/jupyter-cache/docs/using/example_nbs/basic.ipynb'],\n 'excepted': ['/Users/cjs14/GitHub/jupyter-cache/docs/using/example_nbs/basic_failing.ipynb'],\n 'errored': []}"
     },
     "execution_count": 38,
     "metadata": {},
     "output_type": "execute_result"
    }
   ],
   "source": [
    "result = executor.run_and_cache()\n",
    "result"
   ]
  },
  {
   "cell_type": "code",
   "execution_count": 41,
   "metadata": {},
   "outputs": [
    {
     "data": {
      "text/plain": "{'hashkey': '818f3412b998fcf4fe9ca3cca11a3fc3',\n 'description': '',\n 'created': datetime.datetime(2020, 3, 13, 0, 2, 58, 780059),\n 'data': {'execution_seconds': 1.492067899999995},\n 'pk': 1,\n 'uri': '/Users/cjs14/GitHub/jupyter-cache/docs/using/example_nbs/basic.ipynb',\n 'accessed': datetime.datetime(2020, 3, 13, 0, 2, 58, 780068)}"
     },
     "execution_count": 41,
     "metadata": {},
     "output_type": "execute_result"
    }
   ],
   "source": [
    "record = cache.get_cache_record(1)\n",
    "record.to_dict()"
   ]
  },
  {
   "cell_type": "code",
   "execution_count": 42,
   "metadata": {},
   "outputs": [
    {
     "name": "stdout",
     "output_type": "stream",
     "text": "Traceback (most recent call last):\n  File \"/Users/cjs14/GitHub/jupyter-cache/jupyter_cache/executors/basic.py\", line 152, in execute\n    executenb(nb_bundle.nb, cwd=tmpdirname)\n  File \"/anaconda/envs/mistune/lib/python3.7/site-packages/nbconvert/preprocessors/execute.py\", line 737, in executenb\n    return ep.preprocess(nb, resources, km=km)[0]\n  File \"/anaconda/envs/mistune/lib/python3.7/site-packages/nbconvert/preprocessors/execute.py\", line 405, in preprocess\n    nb, resources = super(ExecutePreprocessor, self).preprocess(nb, resources)\n  File \"/anaconda/envs/mistune/lib/python3.7/site-packages/nbconvert/preprocessors/base.py\", line 69, in preprocess\n    nb.cells[index], resources = self.preprocess_cell(cell, resources, index)\n  File \"/anaconda/envs/mistune/lib/python3.7/site-packages/nbconvert/preprocessors/execute.py\", line 448, in preprocess_cell\n    raise CellExecutionError.from_cell_and_msg(cell, out)\nnbconvert.preprocessors.execute.CellExecutionError: An error occurred while executing the following cell:\n------------------\nraise Exception('oopsie!')\n------------------\n\n\u001b[0;31m---------------------------------------------------------------------------\u001b[0m\n\u001b[0;31mException\u001b[0m                                 Traceback (most recent call last)\n\u001b[0;32m<ipython-input-1-714b2b556897>\u001b[0m in \u001b[0;36m<module>\u001b[0;34m\u001b[0m\n\u001b[0;32m----> 1\u001b[0;31m \u001b[0;32mraise\u001b[0m \u001b[0mException\u001b[0m\u001b[0;34m(\u001b[0m\u001b[0;34m'oopsie!'\u001b[0m\u001b[0;34m)\u001b[0m\u001b[0;34m\u001b[0m\u001b[0;34m\u001b[0m\u001b[0m\n\u001b[0m\n\u001b[0;31mException\u001b[0m: oopsie!\nException: oopsie!\n\n\n"
    }
   ],
   "source": [
    "record = cache.get_staged_record(2)\n",
    "print(record.traceback)"
   ]
  }
 ]
}
